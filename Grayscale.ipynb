{
  "cells": [
    {
      "cell_type": "markdown",
      "metadata": {
        "id": "view-in-github",
        "colab_type": "text"
      },
      "source": [
        "<a href=\"https://colab.research.google.com/github/brahm15jot/Convert-Colored-to-GrayScale/blob/main/Grayscale.ipynb\" target=\"_parent\"><img src=\"https://colab.research.google.com/assets/colab-badge.svg\" alt=\"Open In Colab\"/></a>"
      ]
    },
    {
      "cell_type": "markdown",
      "source": [
        "# CONVERT COLORED IMAGE TO GRAYSCALE\n"
      ],
      "metadata": {
        "id": "oAQ2QHWymo2J"
      }
    },
    {
      "cell_type": "markdown",
      "source": [
        "Import Libraries\n"
      ],
      "metadata": {
        "id": "Qot6-_AZmuDZ"
      }
    },
    {
      "cell_type": "code",
      "source": [
        "import cv2\n",
        "from google.colab.patches import cv2_imshow"
      ],
      "metadata": {
        "id": "PZyMHtMlgOWz"
      },
      "execution_count": null,
      "outputs": []
    },
    {
      "cell_type": "markdown",
      "source": [
        "Load the image"
      ],
      "metadata": {
        "id": "gq5gW49CnPze"
      }
    },
    {
      "cell_type": "code",
      "execution_count": null,
      "metadata": {
        "id": "3LC55Yf0zJLR"
      },
      "outputs": [],
      "source": [
        "image = cv2.imread('helo.jpg')\n",
        "cv2_imshow(image)\n",
        "cv2.waitKey(0)"
      ]
    },
    {
      "cell_type": "markdown",
      "source": [
        "function to convert into grayscale"
      ],
      "metadata": {
        "id": "RBoe9aUinXTC"
      }
    },
    {
      "cell_type": "code",
      "source": [
        "gray_image = cv2.cvtColor(image, cv2.COLOR_BGR2GRAY)"
      ],
      "metadata": {
        "id": "TucjmHhInU2h"
      },
      "execution_count": null,
      "outputs": []
    },
    {
      "cell_type": "markdown",
      "source": [
        "Display the output"
      ],
      "metadata": {
        "id": "wzXDUv1JniOZ"
      }
    },
    {
      "cell_type": "code",
      "source": [
        "cv2_imshow(gray_image)\n",
        "cv2.waitKey(0)"
      ],
      "metadata": {
        "id": "unernzVVndzJ"
      },
      "execution_count": null,
      "outputs": []
    },
    {
      "cell_type": "markdown",
      "source": [
        "Window shown waits for any key pressing event"
      ],
      "metadata": {
        "id": "pNCYhfafnoS8"
      }
    },
    {
      "cell_type": "code",
      "source": [
        "cv2.destroyAllWindows()"
      ],
      "metadata": {
        "id": "Q-JF58ksniy4"
      },
      "execution_count": null,
      "outputs": []
    },
    {
      "cell_type": "markdown",
      "source": [
        "# CONVERT COLORED VIDEO TO GRAYSCALE"
      ],
      "metadata": {
        "id": "tIWD8jhQnuos"
      }
    },
    {
      "cell_type": "markdown",
      "source": [
        "Import Modules"
      ],
      "metadata": {
        "id": "FpU1QRc9n3eH"
      }
    },
    {
      "cell_type": "code",
      "source": [
        "import cv2\n",
        "from google.colab.patches import cv2_imshow"
      ],
      "metadata": {
        "id": "xF8ojXIen65m"
      },
      "execution_count": null,
      "outputs": []
    },
    {
      "cell_type": "markdown",
      "source": [
        "Read the video"
      ],
      "metadata": {
        "id": "siNp96FYn8A1"
      }
    },
    {
      "cell_type": "code",
      "source": [
        "source = cv2.VideoCapture('/content/Countdown - 2637.mp4')"
      ],
      "metadata": {
        "id": "iNRGFb0hn9ZO"
      },
      "execution_count": null,
      "outputs": []
    },
    {
      "cell_type": "markdown",
      "source": [
        "Extracting frames"
      ],
      "metadata": {
        "id": "SudKW1olobMo"
      }
    },
    {
      "cell_type": "code",
      "source": [
        "while True:\n",
        "    ret, img = source.read()\n",
        "    # converting to gray-scale\n",
        "    gray = cv2.cvtColor(img, cv2.COLOR_BGR2GRAY)\n",
        "    # displaying the video\n",
        "    cv2_imshow(gray)\n",
        " \n",
        "    # exiting the loop\n",
        "    key = cv2.waitKey(1)\n",
        "    if key == ord(\"q\"):\n",
        "        break"
      ],
      "metadata": {
        "id": "zso1F0lQohHp"
      },
      "execution_count": null,
      "outputs": []
    },
    {
      "cell_type": "markdown",
      "source": [
        "Close the window"
      ],
      "metadata": {
        "id": "dZpHxPgPo76J"
      }
    },
    {
      "cell_type": "code",
      "source": [
        "cv2.destroyAllWindows()\n",
        "source.release()"
      ],
      "metadata": {
        "id": "IWF_ZQRLo9Z7"
      },
      "execution_count": null,
      "outputs": []
    }
  ],
  "metadata": {
    "colab": {
      "collapsed_sections": [],
      "name": "Grayscale.ipynb",
      "provenance": [],
      "include_colab_link": true
    },
    "gpuClass": "standard",
    "kernelspec": {
      "display_name": "Python 3",
      "name": "python3"
    },
    "language_info": {
      "name": "python"
    },
    "accelerator": "GPU"
  },
  "nbformat": 4,
  "nbformat_minor": 0
}